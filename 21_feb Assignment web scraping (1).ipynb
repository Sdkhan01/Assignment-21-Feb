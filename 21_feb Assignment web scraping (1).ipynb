{
 "cells": [
  {
   "cell_type": "markdown",
   "id": "c1d0d025-11eb-4f3d-aaeb-d82447972da3",
   "metadata": {},
   "source": [
    "1- What is Web Scraping? Why is it Used? Give three areas where Web Scraping is used to get data."
   ]
  },
  {
   "cell_type": "raw",
   "id": "2c71c2f9-e898-4015-bbf5-e1f7ac1cbbfc",
   "metadata": {},
   "source": [
    "Web scraping is an automatic method to obtain large amounts of data from websites. Most of this data is unstructured data in an HTML format which is then converted into structured data in a spreadsheet or a database so that it can be used in various applications. There are many different ways to perform web scraping to obtain data from websites. These include using online services, particular API’s or even creating your code for web scraping from scratch. Many large websites, like Google, Twitter, Facebook, StackOverflow, etc. have API’s that allow you to access their data in a structured format. This is the best option, but there are other sites that don’t allow users to access large amounts of data in a structured form or they are simply not that technologically advanced. In that situation, it’s best to use Web Scraping to scrape the website for data.\n",
    "Web scraping gives better acces to data,can help in market automation without the limits,can be used to train the machine learning alogorithm to machine in very efficient way.\n",
    "\n",
    "Web Scraping has multiple applications across various industries. Let’s check out some of these now!\n",
    "\n",
    "1. Price Monitoring\n",
    "Web Scraping can be used by companies to scrap the product data for their products and competing products as well to see how it impacts their pricing strategies. Companies can use this data to fix the optimal pricing for their products so that they can obtain maximum revenue.\n",
    "\n",
    "2. Market Research\n",
    "Web scraping can be used for market research by companies. High-quality web scraped data obtained in large volumes can be very helpful for companies in analyzing consumer trends and understanding which direction the company should move in the future. \n",
    "\n",
    "3. News Monitoring\n",
    "Web scraping news sites can provide detailed reports on the current news to a company. This is even more essential for companies that are frequently in the news or that depend on daily news for their day-to-day functioning. After all, news reports can make or break a company in a single day!"
   ]
  },
  {
   "cell_type": "markdown",
   "id": "ee97df3d-18c3-4903-a5b2-e5a21ba17d8d",
   "metadata": {},
   "source": [
    "Q2. What are the different methods used for Web Scraping?"
   ]
  },
  {
   "cell_type": "raw",
   "id": "1b920c26-d49b-4a2c-a58d-ae47a3813d7b",
   "metadata": {},
   "source": [
    "Manual Scraping\n",
    "Not surprisingly, web scraping can be done manually. All you need is the ability to copy/paste information and a spreadsheet to keep track of the extracted data\n",
    "\n",
    "Automated Scraping\n",
    "On the other side of the spectrum, we have automated web scraping.\n",
    "\n",
    "Automated web scraping tools have become increasingly popular due their ease of use and savings in time and costs.\n",
    "\n",
    "These tools also come in many different shapes and sizes, from simple browser extensions to more powerful software solutions.\n",
    "\n",
    "Outsourced Web Scraping\n",
    "Lastly, we wanted to also discuss outsourced web scraping.\n",
    "\n",
    "After all, you might not want to bother with managing your web scraping projects yourself. In this scenario, you might decide to outsource your web scraping projects."
   ]
  },
  {
   "cell_type": "markdown",
   "id": "e7558646-5b8e-4cf3-8db8-843b11b994c6",
   "metadata": {},
   "source": [
    "Q3. What is Beautiful Soup? Why is it used?"
   ]
  },
  {
   "cell_type": "raw",
   "id": "e6fb8100-053a-4ee8-85bd-60812a217b7a",
   "metadata": {},
   "source": [
    "Beautiful Soup is a Python package for parsing HTML and XML documents (including having malformed markup, i.e. non-closed tags, so named after tag soup). It creates a parse tree for parsed pages that can be used to extract data from HTML, which is useful for web scraping.\n",
    "\n",
    "Beautiful Soup was started by Leonard Richardson, who continues to contribute to the project, and is additionally supported by Tidelift, a paid subscription to open-source maintenance."
   ]
  },
  {
   "cell_type": "markdown",
   "id": "c29912e5-7ea3-4c2e-a0a7-c4d45fb83818",
   "metadata": {},
   "source": [
    "Q4. Why is flask used in this Web Scraping project?\n"
   ]
  },
  {
   "cell_type": "raw",
   "id": "1d0c6eeb-f02e-486f-84d0-253b2e26d253",
   "metadata": {},
   "source": [
    "Flask is  designed to make getting started quick and easy, with the ability to scale up to complex applications. It began as a simple wrapper around Werkzeug and Jinja and has become one of the most popular Python web application frameworks. In simple terms, it is a web framework that is beginner-friendly and scalable"
   ]
  },
  {
   "cell_type": "markdown",
   "id": "6b47ee35-7aa1-45a2-8df4-9eda42a8f194",
   "metadata": {},
   "source": [
    "Q5. Write the names of AWS services used in this project. Also, explain the use of each service."
   ]
  },
  {
   "cell_type": "raw",
   "id": "3a1934f9-f8d7-4b55-9480-53455fe115fa",
   "metadata": {},
   "source": [
    "AWS services which We used in this project is AWS Code Pipeline and Elastic Beanstalk.\n",
    "\n",
    "AWS Code Pipeline : AWS CodePipeline is a fully managed continuous delivery service that helps you automate your release pipelines for fast and reliable application and infrastructure updates.\n",
    "\n",
    "Elastic Beanstalk : Elastic Beanstalk is a service for deploying and scaling web applications and services. Upload your code and Elastic Beanstalk automatically handles the deployment—from capacity provisioning, load balancing, and auto scaling to application health monitoring."
   ]
  },
  {
   "cell_type": "code",
   "execution_count": null,
   "id": "704fe3c9-cdd4-48e0-90e3-73bbff12c59f",
   "metadata": {},
   "outputs": [],
   "source": []
  }
 ],
 "metadata": {
  "kernelspec": {
   "display_name": "Python 3 (ipykernel)",
   "language": "python",
   "name": "python3"
  },
  "language_info": {
   "codemirror_mode": {
    "name": "ipython",
    "version": 3
   },
   "file_extension": ".py",
   "mimetype": "text/x-python",
   "name": "python",
   "nbconvert_exporter": "python",
   "pygments_lexer": "ipython3",
   "version": "3.10.8"
  }
 },
 "nbformat": 4,
 "nbformat_minor": 5
}
